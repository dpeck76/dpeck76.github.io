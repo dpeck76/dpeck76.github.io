{
  "cells": [
    {
      "cell_type": "raw",
      "metadata": {},
      "source": [
        "---\n",
        "title: Post With Code\n",
        "author: Harlow Malloc\n",
        "date: '2023-09-18'\n",
        "categories:\n",
        "  - news\n",
        "  - code\n",
        "  - analysis\n",
        "image: image.jpg\n",
        "---"
      ],
      "id": "0c4600ec"
    },
    {
      "cell_type": "markdown",
      "metadata": {},
      "source": [
        "This is a post with executable code.\n"
      ],
      "id": "469c225e"
    },
    {
      "cell_type": "code",
      "metadata": {},
      "source": [
        "1 + 1"
      ],
      "id": "ee64aa17",
      "execution_count": null,
      "outputs": []
    }
  ],
  "metadata": {
    "kernelspec": {
      "name": "python3",
      "language": "python",
      "display_name": "Python 3 (ipykernel)"
    }
  },
  "nbformat": 4,
  "nbformat_minor": 5
}